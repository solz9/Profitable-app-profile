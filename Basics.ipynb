{
 "cells": [
  {
   "cell_type": "markdown",
   "metadata": {},
   "source": [
    "# Profitable App Profiles for the App Store and Google Play Markets\n",
    "Our aim in this project is to find mobile app profiles that are profitable for the App Store and Google Play markets. We're working as data analysts for a company that builds Android and iOS mobile apps, and our job is to enable our team of developers to make data-driven decisions with respect to the kind of apps they build.\n",
    "\n",
    "At our company, we only build apps that are free to download and install, and our main source of revenue consists of in-app ads. This means that our revenue for any given app is mostly influenced by the number of users that use our app. Our goal for this project is to analyze data to help our developers understand what kinds of apps are likely to attract more users."
   ]
  },
  {
   "cell_type": "markdown",
   "metadata": {},
   "source": [
    "## Opening and Exploring the Data\n",
    "As of September 2018, there were approximately 2 million iOS apps available on the App Store, and 2.1 million Android apps on Google Play.\n",
    "\n",
    "![img](https://s3.amazonaws.com/dq-content/350/py1m8_statista.png) Source: [Statista](https://www.statista.com/statistics/276623/number-of-apps-available-in-leading-app-stores/)\n",
    "Collecting data for over four million apps requires a significant amount of time and money, so we'll try to analyze a sample of data instead. To avoid spending resources with collecting new data ourselves, we should first try to see whether we can find any relevant existing data at no cost. Luckily, these are two data sets that seem suitable for our purpose:\n",
    "\n",
    "- A data set containing data about approximately ten thousand Android apps from Google Play. You can download the data set directly from this link.\n",
    "- A data set containing data about approximately seven thousand iOS apps from the App Store. You can download the data set directly from this link.\n",
    "Let's start by opening the two data sets and then continue with exploring the data."
   ]
  },
  {
   "cell_type": "code",
   "execution_count": 1,
   "metadata": {},
   "outputs": [],
   "source": [
    "# READ DATASET\n",
    "from csv import reader\n",
    "def read_dataset(dataset, header=True):\n",
    "    readfile = list(reader(open(dataset, encoding=\"utf8\")))\n",
    "    if header:\n",
    "        return readfile[0], readfile[1:], readfile\n",
    "appstore_header, appstore_data, appstore_all=read_dataset('AppleStore.csv')\n",
    "ggplay_header, ggplay_data, ggplay_all=read_dataset('googleplaystore.csv')"
   ]
  },
  {
   "cell_type": "code",
   "execution_count": 2,
   "metadata": {},
   "outputs": [
    {
     "name": "stdout",
     "output_type": "stream",
     "text": [
      "['osmino Wi-Fi: free WiFi', 'TOOLS', '4.2', '134203', '4.1M', '10,000,000+', 'Free', '0', 'Everyone', 'Tools', 'August 7, 2018', '6.06.14', '4.4 and up']\n",
      "\n",
      "\n",
      "number of rows: 10840\n",
      "number of columns: 13\n"
     ]
    }
   ],
   "source": [
    "# EXPLORE DATASET & DELETE WRONG DATA\n",
    "def explore_data(dataset, start, end, rows_and_columns=False):\n",
    "    for row in dataset[start:end]:\n",
    "        print(row)\n",
    "        print('\\n')\n",
    "    if rows_and_columns:\n",
    "        print('number of rows:',len(dataset))\n",
    "        print('number of columns:', len(dataset[0]))\n",
    "\n",
    "del ggplay_data[10472]\n",
    "explore_data(ggplay_data,10472,10473, True)"
   ]
  },
  {
   "cell_type": "code",
   "execution_count": 3,
   "metadata": {},
   "outputs": [],
   "source": [
    "# REMOVE DUPLICATE DATA\n",
    "def find_duplicate(dataset):\n",
    "    duplicate_data, unique_data = [],[]\n",
    "    for row in dataset:\n",
    "        name = row[0]\n",
    "        if name in unique_data:\n",
    "            duplicate_data.append(row)\n",
    "        else:\n",
    "            unique_data.append(name)\n",
    "    return duplicate_data, unique_data\n",
    "duplicate_gg, unique_gg=find_duplicate(ggplay_data)[0], find_duplicate(ggplay_data)[1]\n",
    "# print(duplicate_gg)\n",
    "# print('Instagram' in unique_gg)"
   ]
  },
  {
   "cell_type": "code",
   "execution_count": 4,
   "metadata": {},
   "outputs": [
    {
     "name": "stdout",
     "output_type": "stream",
     "text": [
      "9659\n"
     ]
    }
   ],
   "source": [
    "# BUILDING A DICTIONARY STORING APPS AND THEIR MAXIMUM REVIEWS\n",
    "gg_dic = {}\n",
    "for app in ggplay_data:\n",
    "    name = app[0]\n",
    "    review = float(app[3])\n",
    "    if name in gg_dic and gg_dic[name] < review:\n",
    "        gg_dic[name] = review\n",
    "    elif name not in gg_dic:\n",
    "        gg_dic[name] = review\n",
    "# print(gg_dic['Quick PDF Scanner + OCR FREE'])\n",
    "print(len(gg_dic))"
   ]
  },
  {
   "cell_type": "code",
   "execution_count": 5,
   "metadata": {},
   "outputs": [
    {
     "name": "stdout",
     "output_type": "stream",
     "text": [
      "9659\n"
     ]
    }
   ],
   "source": [
    "# BUILDING A LIST STORING ALL DATA OF APPS WITH NO DUPLICATES \n",
    "gg_clean, gg_added = [], []\n",
    "for apps in ggplay_data:\n",
    "    if apps[0] not in gg_added and float(apps[3]) == float(gg_dic[apps[0]]):\n",
    "        gg_clean.append(apps)\n",
    "        gg_added.append(apps[0]) # sẽ có trường hợp apps[3] có giá trị = nhau\n",
    "print(len(gg_clean))"
   ]
  },
  {
   "cell_type": "code",
   "execution_count": 6,
   "metadata": {},
   "outputs": [],
   "source": [
    "# Write a function that takes in a string and returns False if there's any character in the string that doesn't belong \n",
    "# to the set of common English characters; otherwise, the function returns True.\n",
    "# def detect_eng(string):\n",
    "#     for i in string:\n",
    "#         if ord(i) > 127:\n",
    "#             return False\n",
    "#     return True # return chỉ được sử dụng 1 lần nên nếu ở trên đã return False (phát hiện ra phần tử > 127) thì sẽ \n",
    "#                 # ko xét đến cái ở dưới\n",
    "# print(detect_eng('Docs To Go™ Free Office Suite'))\n",
    "# print(ord('ê'))"
   ]
  },
  {
   "cell_type": "code",
   "execution_count": 7,
   "metadata": {},
   "outputs": [
    {
     "name": "stdout",
     "output_type": "stream",
     "text": [
      "True\n"
     ]
    }
   ],
   "source": [
    "# Change the function you created on the previous screen. If the input string has more than three characters that fall \n",
    "# outside the ASCII range (0 - 127), then the function should return False (identify the string as non-English), otherwise \n",
    "# it should return True.\n",
    "\n",
    "# CÁCH 1:\n",
    "# def detect_eng(string):\n",
    "#     ascii_list = []\n",
    "#     for i in string:\n",
    "#         if ord(i) > 127:\n",
    "#             ascii_list.append(False)\n",
    "#         else: \n",
    "#             ascii_list.append(True)\n",
    "#     if ascii_list.count(False) > 3:\n",
    "#         return False\n",
    "#     return True\n",
    "\n",
    "# CÁCH 2:\n",
    "def detect_eng(string):\n",
    "    ascii_element = 0\n",
    "    for i in string:\n",
    "        if ord(i) > 127:\n",
    "            ascii_element += 1\n",
    "    if ascii_element > 3:\n",
    "        return False\n",
    "    return True\n",
    "print(detect_eng('Instachat 😜'))"
   ]
  },
  {
   "cell_type": "code",
   "execution_count": 8,
   "metadata": {},
   "outputs": [
    {
     "name": "stdout",
     "output_type": "stream",
     "text": [
      "['Photo Editor & Candy Camera & Grid & ScrapBook', 'ART_AND_DESIGN', '4.1', '159', '19M', '10,000+', 'Free', '0', 'Everyone', 'Art & Design', 'January 7, 2018', '1.0.0', '4.0.3 and up']\n",
      "\n",
      "\n",
      "['U Launcher Lite – FREE Live Cool Themes, Hide Apps', 'ART_AND_DESIGN', '4.7', '87510', '8.7M', '5,000,000+', 'Free', '0', 'Everyone', 'Art & Design', 'August 1, 2018', '1.2.4', '4.0.3 and up']\n",
      "\n",
      "\n",
      "['Sketch - Draw & Paint', 'ART_AND_DESIGN', '4.5', '215644', '25M', '50,000,000+', 'Free', '0', 'Teen', 'Art & Design', 'June 8, 2018', 'Varies with device', '4.2 and up']\n",
      "\n",
      "\n",
      "None\n",
      "['App', 'Category', 'Rating', 'Reviews', 'Size', 'Installs', 'Type', 'Price', 'Content Rating', 'Genres', 'Last Updated', 'Current Ver', 'Android Ver']\n"
     ]
    }
   ],
   "source": [
    "# CREATE ENGLISH-ONLY APPS LIST\n",
    "def english_app(dataset, name_index):\n",
    "    english_only = []\n",
    "    for item in dataset:\n",
    "        if detect_eng(item[name_index]):\n",
    "            english_only.append(item)\n",
    "    return english_only\n",
    "english_gg = english_app(gg_clean, 0)\n",
    "english_appstore = english_app(appstore_data, 1)\n",
    "# print(len(english_appstore))\n",
    "# print(explore_data(english_appstore,0,3))\n",
    "print(explore_data(english_gg,0,3))\n",
    "print(ggplay_header)"
   ]
  },
  {
   "cell_type": "code",
   "execution_count": 9,
   "metadata": {},
   "outputs": [
    {
     "name": "stdout",
     "output_type": "stream",
     "text": [
      "['id', 'track_name', 'size_bytes', 'currency', 'price', 'rating_count_tot', 'rating_count_ver', 'user_rating', 'user_rating_ver', 'ver', 'cont_rating', 'prime_genre', 'sup_devices.num', 'ipadSc_urls.num', 'lang.num', 'vpp_lic']\n"
     ]
    }
   ],
   "source": [
    "def free_app(dataset, price_index, price_measure):\n",
    "    free = []\n",
    "    for app in dataset:\n",
    "        if app[price_index] == price_measure:\n",
    "            free.append(app)\n",
    "    return free\n",
    "free_gg = free_app(english_gg, 7, '0')\n",
    "free_ios = free_app(english_appstore, 4, '0.0')\n",
    "print(appstore_header)\n",
    "# print(explore_data(free_gg, 0, 50))\n",
    "# print(len(free_gg))"
   ]
  },
  {
   "cell_type": "code",
   "execution_count": 10,
   "metadata": {},
   "outputs": [
    {
     "name": "stdout",
     "output_type": "stream",
     "text": [
      "{'Social Networking': 3.2898820608317814, 'Photo & Video': 4.9658597144630665, 'Games': 58.16263190564867, 'Music': 2.0484171322160147, 'Reference': 0.5586592178770949, 'Health & Fitness': 2.0173805090006205, 'Weather': 0.8690254500310366, 'Utilities': 2.5139664804469275, 'Travel': 1.2414649286157666, 'Shopping': 2.60707635009311, 'News': 1.3345747982619491, 'Navigation': 0.186219739292365, 'Lifestyle': 1.5828677839851024, 'Entertainment': 7.883302296710118, 'Food & Drink': 0.8069522036002483, 'Sports': 2.1415270018621975, 'Book': 0.4345127250155183, 'Finance': 1.1173184357541899, 'Education': 3.662321539416512, 'Productivity': 1.7380509000620732, 'Business': 0.5276225946617008, 'Catalogs': 0.12414649286157665, 'Medical': 0.186219739292365}\n"
     ]
    }
   ],
   "source": [
    "def freq_table(dataset, column):\n",
    "    app_dic = {}\n",
    "    for app in dataset:\n",
    "        if app[column] in app_dic:\n",
    "            app_dic[app[column]] += 1\n",
    "        else:\n",
    "            app_dic[app[column]] = 1\n",
    "    for key in app_dic:\n",
    "        app_dic[key] /= len(dataset)\n",
    "        app_dic[key] *= 100\n",
    "    return app_dic\n",
    "\n",
    "def display_table(dataset, column):\n",
    "    table = freq_table(dataset, column)\n",
    "    table_dis = []\n",
    "    for key in table:\n",
    "        table_dis.append((table[key], key))\n",
    "    table_sorted = sorted(table_dis, reverse = True)\n",
    "    for entry in table_sorted:\n",
    "        print(entry[1], ':', entry[0])\n",
    "# display_table(free_ios, -5)\n",
    "# print('\\n')\n",
    "# display_table(free_gg, 1)\n",
    "# print('\\n')\n",
    "# display_table(free_gg, -4)\n",
    "print(freq_table(free_ios, -5))"
   ]
  },
  {
   "cell_type": "code",
   "execution_count": 11,
   "metadata": {},
   "outputs": [
    {
     "name": "stdout",
     "output_type": "stream",
     "text": [
      "['id', 'track_name', 'size_bytes', 'currency', 'price', 'rating_count_tot', 'rating_count_ver', 'user_rating', 'user_rating_ver', 'ver', 'cont_rating', 'prime_genre', 'sup_devices.num', 'ipadSc_urls.num', 'lang.num', 'vpp_lic']\n",
      "['389801252', 'Instagram', '113954816', 'USD', '0.0', '2161558', '1289', '4.5', '4.0', '10.23', '12+', 'Photo & Video', '37', '0', '29', '1']\n",
      "\n",
      "\n",
      "['529479190', 'Clash of Clans', '116476928', 'USD', '0.0', '2130805', '579', '4.5', '4.5', '9.24.12', '9+', 'Games', '38', '5', '18', '1']\n",
      "\n",
      "\n",
      "['420009108', 'Temple Run', '65921024', 'USD', '0.0', '1724546', '3842', '4.5', '4.0', '1.6.2', '9+', 'Games', '40', '5', '1', '1']\n",
      "\n",
      "\n",
      "['284035177', 'Pandora - Music & Radio', '130242560', 'USD', '0.0', '1126879', '3594', '4.0', '4.5', '8.4.1', '12+', 'Music', '37', '4', '1', '1']\n",
      "\n",
      "\n",
      "['429047995', 'Pinterest', '74778624', 'USD', '0.0', '1061624', '1814', '4.5', '4.0', '6.26', '12+', 'Social Networking', '37', '5', '27', '1']\n",
      "\n",
      "\n"
     ]
    }
   ],
   "source": [
    "print(appstore_header)\n",
    "explore_data(free_ios, 1,6)\n",
    "# print('\\n')\n",
    "# print(ggplay_header)\n",
    "# explore_data(free_gg, 1,2)"
   ]
  },
  {
   "cell_type": "code",
   "execution_count": 13,
   "metadata": {},
   "outputs": [],
   "source": [
    "# rating = []\n",
    "# for app in freq_table(free_ios, -5):\n",
    "#     genre_rate = []\n",
    "#     for i in free_ios:\n",
    "#         if i[-5] == app:\n",
    "#             genre_rate.append(float(i[7]))\n",
    "#     avg = sum(genre_rate)/len(genre_rate)\n",
    "#     rating.append(avg)\n",
    "\n",
    "# for key in freq_table(free_ios, -5):\n",
    "#     app = freq_table(free_ios, -5)\n",
    "#     for rate in rating:\n",
    "#         app[key]=rate\n",
    "# print(freq_table(free_ios, -5))\n",
    "# # genre_count"
   ]
  },
  {
   "cell_type": "code",
   "execution_count": 38,
   "metadata": {},
   "outputs": [
    {
     "name": "stdout",
     "output_type": "stream",
     "text": [
      "Social Networking : 71548.34905660378\n",
      "Photo & Video : 28441.54375\n",
      "Games : 22788.6696905016\n",
      "Music : 57326.530303030304\n",
      "Reference : 74942.11111111111\n",
      "Health & Fitness : 23298.015384615384\n",
      "Weather : 52279.892857142855\n",
      "Utilities : 18684.456790123455\n",
      "Travel : 28243.8\n",
      "Shopping : 26919.690476190477\n",
      "News : 21248.023255813954\n",
      "Navigation : 86090.33333333333\n",
      "Lifestyle : 16485.764705882353\n",
      "Entertainment : 14029.830708661417\n",
      "Food & Drink : 33333.92307692308\n",
      "Sports : 23008.898550724636\n",
      "Book : 39758.5\n",
      "Finance : 31467.944444444445\n",
      "Education : 7003.983050847458\n",
      "Productivity : 21028.410714285714\n",
      "Business : 7491.117647058823\n",
      "Catalogs : 4004.0\n",
      "Medical : 612.0\n"
     ]
    }
   ],
   "source": [
    "# APPSTORE ANALYS\n",
    "rating = []\n",
    "for app in freq_table(free_ios, -5):\n",
    "    genre_rate = []\n",
    "    for i in free_ios:\n",
    "        if i[-5] == app:\n",
    "            genre_rate.append(float(i[5]))\n",
    "    avg = sum(genre_rate)/len(genre_rate)\n",
    "    print(app, \":\", avg)\n",
    "#     rating.append(avg)\n",
    "\n",
    "# MAKE A DICTIONARY SHOWING THE NUMBER OF USER RATINGS OF EACH GENRE\n",
    "# app = freq_table(free_ios, -5)\n",
    "# genres = [key for key in app]\n",
    "# rating_dic_ios = {genres[i]:rating[i] for i in range(len(rating))}\n",
    "# print(rating_dic_ios)"
   ]
  },
  {
   "cell_type": "code",
   "execution_count": 58,
   "metadata": {},
   "outputs": [
    {
     "name": "stdout",
     "output_type": "stream",
     "text": [
      "['U Launcher Lite – FREE Live Cool Themes, Hide Apps', 'ART_AND_DESIGN', '4.7', '87510', '8.7M', '5000000', 'Free', '0', 'Everyone', 'Art & Design', 'August 1, 2018', '1.2.4', '4.0.3 and up']\n",
      "\n",
      "\n",
      "None\n",
      "ART_AND_DESIGN : 1986335.0877192982\n",
      "AUTO_AND_VEHICLES : 647317.8170731707\n",
      "BEAUTY : 513151.88679245283\n",
      "BOOKS_AND_REFERENCE : 8767811.894736841\n",
      "BUSINESS : 1712290.1474201474\n",
      "COMICS : 817657.2727272727\n",
      "COMMUNICATION : 38456119.167247385\n",
      "DATING : 854028.8303030303\n",
      "EDUCATION : 1833495.145631068\n",
      "ENTERTAINMENT : 11640705.88235294\n",
      "EVENTS : 253542.22222222222\n",
      "FINANCE : 1387692.475609756\n",
      "FOOD_AND_DRINK : 1924897.7363636363\n",
      "HEALTH_AND_FITNESS : 4188821.9853479853\n",
      "HOUSE_AND_HOME : 1331540.5616438356\n",
      "LIBRARIES_AND_DEMO : 638503.734939759\n",
      "LIFESTYLE : 1437816.2687861272\n",
      "GAME : 15588015.603248259\n",
      "FAMILY : 3695641.8198090694\n",
      "MEDICAL : 120550.61980830671\n",
      "SOCIAL : 23253652.127118643\n",
      "SHOPPING : 7036877.311557789\n",
      "PHOTOGRAPHY : 17840110.40229885\n",
      "SPORTS : 3638640.1428571427\n",
      "TRAVEL_AND_LOCAL : 13984077.710144928\n",
      "TOOLS : 10801391.298666667\n",
      "PERSONALIZATION : 5201482.6122448975\n",
      "PRODUCTIVITY : 16787331.344927534\n",
      "PARENTING : 542603.6206896552\n",
      "WEATHER : 5074486.197183099\n",
      "VIDEO_PLAYERS : 24727872.452830188\n",
      "NEWS_AND_MAGAZINES : 9549178.467741935\n",
      "MAPS_AND_NAVIGATION : 4056941.7741935486\n"
     ]
    }
   ],
   "source": [
    "# GOOGLE PLAY ANALYS\n",
    "for app in free_gg:\n",
    "    app[5] = app[5].replace('+', '')\n",
    "    app[5] = app[5].replace(',', '')\n",
    "\n",
    "gg_app = freq_table(free_gg, 1)\n",
    "for key in gg_app:\n",
    "    genre_n_installs = []\n",
    "    for app in free_gg:\n",
    "        if app[1] == key:\n",
    "            genre_n_installs.append(float(app[5]))\n",
    "    print(key, \":\",sum(genre_n_installs)/len(genre_n_installs))"
   ]
  }
 ],
 "metadata": {
  "kernelspec": {
   "display_name": "Python 3 (ipykernel)",
   "language": "python",
   "name": "python3"
  },
  "language_info": {
   "codemirror_mode": {
    "name": "ipython",
    "version": 3
   },
   "file_extension": ".py",
   "mimetype": "text/x-python",
   "name": "python",
   "nbconvert_exporter": "python",
   "pygments_lexer": "ipython3",
   "version": "3.10.11"
  }
 },
 "nbformat": 4,
 "nbformat_minor": 2
}
